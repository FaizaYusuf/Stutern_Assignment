{
 "cells": [
  {
   "cell_type": "markdown",
   "id": "28c12f4a-512d-4a18-8640-45dd48ae8b3c",
   "metadata": {},
   "source": [
    "# Assignment 1 (Week 1)\n",
    "\n",
    ">**Note**: Late submissions are ***`penalized`***.\n",
    "\n",
    "## Name: FAIZA YUSUF"
   ]
  },
  {
   "cell_type": "code",
   "execution_count": 1,
   "id": "5aba3d86-630f-4a40-bbf6-6e3cde1e44b9",
   "metadata": {},
   "outputs": [],
   "source": [
    "# Black code formatter (Optional)\n",
    "# $ pip install nb_black\n",
    "#%load_ext lab_black\n",
    "\n",
    "# auto reload imports\n",
    "#%load_ext autoreload\n",
    "#%autoreload 2"
   ]
  },
  {
   "cell_type": "code",
   "execution_count": 1,
   "id": "f05db959",
   "metadata": {},
   "outputs": [],
   "source": [
    "import random\n",
    "import math"
   ]
  },
  {
   "cell_type": "markdown",
   "id": "c5f5ad77-c752-4093-b190-919063786c35",
   "metadata": {},
   "source": [
    "## Qs 1: \n",
    "\n",
    "Create a class **`Die`** with one attribute called sides, which has a default value of 6. Write a method called `roll_die()` that prints a random number between **1** and the **number of sides** the die has. Make a **6-sided** die and roll it **4** times."
   ]
  },
  {
   "cell_type": "code",
   "execution_count": 2,
   "id": "12ab517e-1921-4606-a6f3-ee14df19f00a",
   "metadata": {},
   "outputs": [],
   "source": [
    "class Die:\n",
    "    \"\"\" Blueprint of Die\"\"\"\n",
    "    def __init__(self, sides: int = 6):\n",
    "        self.sides = sides\n",
    "    def roll_die(self, no_roll: int = 1):\n",
    "        \"\"\" This function accepts an arugument which is the number of times you want the die to be rolled \n",
    "        and then display the output. It rolled once by default \"\"\"\n",
    "        for i in range(no_roll):\n",
    "            print(random.randint(1, self.sides))\n",
    "        "
   ]
  },
  {
   "cell_type": "code",
   "execution_count": 4,
   "id": "0421c645",
   "metadata": {},
   "outputs": [
    {
     "name": "stdout",
     "output_type": "stream",
     "text": [
      "5\n",
      "5\n",
      "6\n"
     ]
    }
   ],
   "source": [
    "di = Die()\n",
    "di.roll_die(3)"
   ]
  },
  {
   "cell_type": "markdown",
   "id": "3cfe6485-0967-465b-b47a-c5e83c7d6a68",
   "metadata": {
    "tags": []
   },
   "source": [
    "## Qs 2: \n",
    "\n",
    "Write a function called `checker()` that accepts a number between 1 and N. Your function should print **Yes** if the number is divisible by 3, **Okay** if the number is divisible by 4 and **Perfect** if the number is divisible by 12. Test your function with **2** examples as shown below:\n",
    "\n",
    "```python\n",
    "\n",
    "def checker(number: int) -> None:\n",
    "    pass\n",
    "\n",
    "checker(number=13)\n",
    "\n",
    "# 3: Yes\n",
    "# 4: Okay\n",
    "# 6: Yes\n",
    "# 8: Okay\n",
    "# 9: Yes\n",
    "# 12: Perfect\n",
    "\n",
    "checker(number=30)\n",
    "```"
   ]
  },
  {
   "cell_type": "code",
   "execution_count": 192,
   "id": "2e89f2f2-d0b0-4ca8-8971-58a5b5d0ce4b",
   "metadata": {},
   "outputs": [],
   "source": [
    "def checker(number: int) -> None :\n",
    "    \n",
    "    if number% 3 == 0:\n",
    "        print(\"Yes\")\n",
    "    \n",
    "    elif number %  4 == 0:\n",
    "        print(\"Okay\")\n",
    "        \n",
    "    elif number %  12 == 0:\n",
    "        print(\"Perfect\")\n",
    "    \n",
    "    else:\n",
    "        print(\"Can not suggest\")\n",
    "        \n",
    "    #return x"
   ]
  },
  {
   "cell_type": "code",
   "execution_count": 194,
   "id": "9d7b70f0",
   "metadata": {},
   "outputs": [
    {
     "name": "stdout",
     "output_type": "stream",
     "text": [
      "Can not suggest\n"
     ]
    }
   ],
   "source": [
    "checker(13)"
   ]
  },
  {
   "cell_type": "code",
   "execution_count": 196,
   "id": "d54bf804-5776-45c1-ae47-14ce56c0bc61",
   "metadata": {},
   "outputs": [
    {
     "name": "stdout",
     "output_type": "stream",
     "text": [
      "Yes\n"
     ]
    }
   ],
   "source": [
    "checker(number=30)"
   ]
  },
  {
   "cell_type": "markdown",
   "id": "91c78281-195b-4248-b2ca-86bb330a8b73",
   "metadata": {},
   "source": [
    "## Qs 3: \n",
    "\n",
    "Create a class called `MeanOrMedian`. Implement two methods in your class `calculate_mean()` and `calculate_median()` that calculates the **`mean`** and the **`median`** respectively given a list. Instantiate the class `MeanOrMedian` and test the **2** `mean` and `median` methods."
   ]
  },
  {
   "cell_type": "code",
   "execution_count": 197,
   "id": "88a8958b-5ccc-405c-9822-2a2e593d49fd",
   "metadata": {},
   "outputs": [],
   "source": [
    "from statistics import *\n",
    "class MeanOrMethod:\n",
    "    \n",
    "    \n",
    "    def __init__(self, *lst: int)-> list:\n",
    "        self.lst = lst\n",
    "        \n",
    "    def __repr__(self):\n",
    "        return f\"{self.__class__.__name__}{self.lst}\"\n",
    "    \n",
    "    def calculate_mean(self):\n",
    "        \"\"\" This function is used to calculate mean of the specified list of number\"\"\"\n",
    "        x = mean(self.lst)\n",
    "        return x\n",
    "    \n",
    "    def calculate_median(self):\n",
    "        \"\"\" this function is used to calculate the median of the specified list of numbers\"\"\"\n",
    "        x = median(self.lst)\n",
    "        return x"
   ]
  },
  {
   "cell_type": "code",
   "execution_count": 198,
   "id": "0ac08968-7724-444d-bb09-c53b29e30096",
   "metadata": {},
   "outputs": [],
   "source": [
    "the_m_or_m = MeanOrMethod(2,5,6,7,8,8,8,6)"
   ]
  },
  {
   "cell_type": "code",
   "execution_count": 199,
   "id": "c111ac13-e041-4424-a593-67b977983a5f",
   "metadata": {},
   "outputs": [
    {
     "data": {
      "text/plain": [
       "6.25"
      ]
     },
     "execution_count": 199,
     "metadata": {},
     "output_type": "execute_result"
    }
   ],
   "source": [
    "# checking the mean\n",
    "the_m_or_m.calculate_mean()"
   ]
  },
  {
   "cell_type": "code",
   "execution_count": 200,
   "id": "dccd5c6c",
   "metadata": {},
   "outputs": [
    {
     "data": {
      "text/plain": [
       "6.5"
      ]
     },
     "execution_count": 200,
     "metadata": {},
     "output_type": "execute_result"
    }
   ],
   "source": [
    "# checking the median\n",
    "the_m_or_m.calculate_median()"
   ]
  },
  {
   "cell_type": "markdown",
   "id": "755910de-cce0-49eb-b8d0-54fc7e30460a",
   "metadata": {},
   "source": [
    "## Qs 4:\n",
    "\n",
    "Write a program to create the function called `solver()`, which can accept two variables and perform **multiplication** and **division**. It must also return both **multiplication** and **division** in the same return call. Call the function using **two** different examples."
   ]
  },
  {
   "cell_type": "code",
   "execution_count": 201,
   "id": "17630778-8b55-4fd8-a2c1-198072e1e595",
   "metadata": {},
   "outputs": [],
   "source": [
    "def solver(val_1: float, val_2: float):\n",
    "    \"\"\" This method accept two argument and then retun the multiplication and divition of the argument \"\"\"\n",
    "\n",
    "    mult = val_1 * val_2\n",
    "    div = round(val_1 / val_2, 2)\n",
    "    result = print(f\"The multiplication of the two numbers is: {mult}\\nThe division of the two numbers is: {div}\")\n",
    "    return result"
   ]
  },
  {
   "cell_type": "code",
   "execution_count": 202,
   "id": "c2a37e8f-2043-4187-b213-c73e22f77218",
   "metadata": {},
   "outputs": [
    {
     "name": "stdout",
     "output_type": "stream",
     "text": [
      "The multiplication of the two numbers is: 12\n",
      "The division of the two numbers is: 0.33\n"
     ]
    }
   ],
   "source": [
    "solver(2,6)"
   ]
  },
  {
   "cell_type": "code",
   "execution_count": null,
   "id": "a74b236c-af51-447a-8874-43cc0f2690ae",
   "metadata": {},
   "outputs": [],
   "source": []
  },
  {
   "cell_type": "markdown",
   "id": "11fd8120-de4e-41c6-a9a6-8301347ce936",
   "metadata": {},
   "source": [
    "## Qs 5:\n",
    "\n",
    "Given the dictionary below, extract the following:\n",
    "\n",
    "a.`name`\n",
    "\n",
    "b. `height,width`\n",
    "\n",
    "c. `size`\n",
    "\n",
    "\n",
    "\n",
    "```python\n",
    "\n",
    "my_dict = {\n",
    "   \"id\": \"001\",\n",
    "   \"name\": \"dog\",\n",
    "   \"image\":\n",
    "      {\n",
    "         \"url\": \"images/001.jpg\",\n",
    "\n",
    "            \"thumbnail\":\n",
    "               {\n",
    "                  \"url\": \"images/thumbnails/001.jpg\",\n",
    "                  \"height,width\": \"3x6\"\n",
    "               },\n",
    "          \"size\": \"30 kB\"\n",
    "      }\n",
    "}\n",
    "\n",
    "```"
   ]
  },
  {
   "cell_type": "code",
   "execution_count": 203,
   "id": "b2ba6099-5668-4647-bc93-ad620bfb6be0",
   "metadata": {},
   "outputs": [],
   "source": [
    "my_dict = {\n",
    "   \"id\": \"001\",\n",
    "   \"name\": \"dog\",\n",
    "   \"image\":\n",
    "      {\n",
    "         \"url\": \"images/001.jpg\",\n",
    "          \"thumbnail\":\n",
    "              {\n",
    "                  \"url\": \"images/thumbnails/001.jpg\",\n",
    "                  \"height,width\": \"3x6\"\n",
    "               },\n",
    "          \"size\": \"30 kB\"\n",
    "      }\n",
    "}"
   ]
  },
  {
   "cell_type": "code",
   "execution_count": 204,
   "id": "ee8d8a36-ead3-4ca0-b98f-96864c7c7ebf",
   "metadata": {},
   "outputs": [
    {
     "data": {
      "text/plain": [
       "'dog'"
      ]
     },
     "execution_count": 204,
     "metadata": {},
     "output_type": "execute_result"
    }
   ],
   "source": [
    "#a\n",
    "my_dict[\"name\"]"
   ]
  },
  {
   "cell_type": "code",
   "execution_count": 205,
   "id": "1bfbcb4a-3390-46a9-87a4-3c60b2c5e8f2",
   "metadata": {},
   "outputs": [
    {
     "data": {
      "text/plain": [
       "'3x6'"
      ]
     },
     "execution_count": 205,
     "metadata": {},
     "output_type": "execute_result"
    }
   ],
   "source": [
    "#b\n",
    "my_dict[\"image\"][\"thumbnail\"][\"height,width\"]"
   ]
  },
  {
   "cell_type": "code",
   "execution_count": 111,
   "id": "53b7d128-d505-479e-ba13-545d173f80ac",
   "metadata": {},
   "outputs": [
    {
     "data": {
      "text/plain": [
       "'30 kB'"
      ]
     },
     "execution_count": 111,
     "metadata": {},
     "output_type": "execute_result"
    }
   ],
   "source": [
    "#c\n",
    "my_dict[\"image\"][\"size\"]"
   ]
  },
  {
   "cell_type": "code",
   "execution_count": null,
   "id": "429f4ee7-7d56-47ed-b729-d03f0ad1b865",
   "metadata": {},
   "outputs": [],
   "source": []
  }
 ],
 "metadata": {
  "kernelspec": {
   "display_name": "Python 3 (ipykernel)",
   "language": "python",
   "name": "python3"
  },
  "language_info": {
   "codemirror_mode": {
    "name": "ipython",
    "version": 3
   },
   "file_extension": ".py",
   "mimetype": "text/x-python",
   "name": "python",
   "nbconvert_exporter": "python",
   "pygments_lexer": "ipython3",
   "version": "3.9.12"
  }
 },
 "nbformat": 4,
 "nbformat_minor": 5
}
