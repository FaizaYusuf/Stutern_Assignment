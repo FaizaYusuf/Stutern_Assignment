{
 "cells": [
  {
   "cell_type": "markdown",
   "id": "27c9aa61-8e50-4ce9-95b1-ee11d85dd067",
   "metadata": {
    "id": "27c9aa61-8e50-4ce9-95b1-ee11d85dd067"
   },
   "source": [
    "# Assignment 5 (Week 5)\n",
    "\n",
    ">**Note**: Late submissions are ***`penalized`***.\n",
    "\n",
    "## Name: Faiza Yusuf\n",
    "\n",
    "<br>\n",
    "\n",
    "## Please show and display ALL your calculations and results.\n",
    "> Remember to read the **`instructions`** carefully."
   ]
  },
  {
   "cell_type": "code",
   "execution_count": 1,
   "id": "5f4da313-7d5a-4b4d-a9fe-5b814bb3ab3c",
   "metadata": {
    "id": "5f4da313-7d5a-4b4d-a9fe-5b814bb3ab3c",
    "scrolled": true
   },
   "outputs": [],
   "source": [
    "# Standard imports\n",
    "import numpy as np\n",
    "import pandas as pd\n",
    "import matplotlib.pyplot as plt\n",
    "import seaborn as sns\n",
    "\n",
    "\n",
    "# Built-in library\n",
    "import itertools\n",
    "import typing as tp\n",
    "import re\n",
    "# pandas settings\n",
    "pd.options.display.max_rows = 1_000\n",
    "pd.options.display.max_columns = 1_000\n",
    "pd.options.display.max_colwidth = 1_000"
   ]
  },
  {
   "cell_type": "markdown",
   "id": "bd5917e0-2629-4fa0-8dc0-148166a479d3",
   "metadata": {
    "id": "bd5917e0-2629-4fa0-8dc0-148166a479d3"
   },
   "source": [
    "### Download the data [here](https://drive.google.com/file/d/1BhBejDklCoqsqqAcvycA4n7AIpeRnych/view?usp=share_link)\n",
    "\n",
    "### Problem Statement\n",
    "\n",
    "**Customer Personality Analysis** is a detailed analysis of a company’s ideal customers. It helps a business to better understand its customers and makes it easier for them to modify products according to the specific needs, behaviors and concerns of different types of customers.\n",
    "\n",
    "Customer personality analysis helps a business to modify its product based on its target customers from different types of customer segments. For example, instead of spending money to market a new product to every customer in the company’s database, a company can analyze which customer segment is most likely to buy the product and then market the product only on that particular segment.\n",
    "\n",
    "### Target\n",
    "Need to perform **clustering** to summarize customer segments.\n",
    "\n",
    "### Attributes\n",
    "\n",
    "```\n",
    "Attributes\n",
    "\n",
    "People\n",
    "------\n",
    "ID: Customer's unique identifier\n",
    "Year_Birth: Customer's birth year\n",
    "Education: Customer's education level\n",
    "Marital_Status: Customer's marital status\n",
    "Income: Customer's yearly household income\n",
    "Kidhome: Number of children in customer's household\n",
    "Teenhome: Number of teenagers in customer's household\n",
    "Dt_Customer: Date of customer's enrollment with the company\n",
    "Recency: Number of days since customer's last purchase\n",
    "Complain: 1 if the customer complained in the last 2 years, 0 otherwise\n",
    "\n",
    "Products\n",
    "--------\n",
    "MntWines: Amount spent on wine in last 2 years\n",
    "MntFruits: Amount spent on fruits in last 2 years\n",
    "MntMeatProducts: Amount spent on meat in last 2 years\n",
    "MntFishProducts: Amount spent on fish in last 2 years\n",
    "MntSweetProducts: Amount spent on sweets in last 2 years\n",
    "MntGoldProds: Amount spent on gold in last 2 years\n",
    "\n",
    "Promotion\n",
    "---------\n",
    "NumDealsPurchases: Number of purchases made with a discount\n",
    "AcceptedCmp1: 1 if customer accepted the offer in the 1st campaign, 0 otherwise\n",
    "AcceptedCmp2: 1 if customer accepted the offer in the 2nd campaign, 0 otherwise\n",
    "AcceptedCmp3: 1 if customer accepted the offer in the 3rd campaign, 0 otherwise\n",
    "AcceptedCmp4: 1 if customer accepted the offer in the 4th campaign, 0 otherwise\n",
    "AcceptedCmp5: 1 if customer accepted the offer in the 5th campaign, 0 otherwise\n",
    "Response: 1 if customer accepted the offer in the last campaign, 0 otherwise\n",
    "\n",
    "Place\n",
    "-----\n",
    "NumWebPurchases: Number of purchases made through the company’s website\n",
    "NumCatalogPurchases: Number of purchases made using a catalogue\n",
    "NumStorePurchases: Number of purchases made directly in stores\n",
    "NumWebVisitsMonth: Number of visits to company’s website in the last month\n",
    "```"
   ]
  },
  {
   "cell_type": "code",
   "execution_count": 2,
   "id": "aAt84yb_-bSs",
   "metadata": {
    "colab": {
     "base_uri": "https://localhost:8080/",
     "height": 207
    },
    "executionInfo": {
     "elapsed": 344,
     "status": "ok",
     "timestamp": 1678668570600,
     "user": {
      "displayName": "FAIZA YUSUF",
      "userId": "15731917094248524976"
     },
     "user_tz": 0
    },
    "id": "aAt84yb_-bSs",
    "outputId": "ef973862-fb3d-4d6b-90f8-f88966d920e9"
   },
   "outputs": [
    {
     "data": {
      "text/html": [
       "<div>\n",
       "<style scoped>\n",
       "    .dataframe tbody tr th:only-of-type {\n",
       "        vertical-align: middle;\n",
       "    }\n",
       "\n",
       "    .dataframe tbody tr th {\n",
       "        vertical-align: top;\n",
       "    }\n",
       "\n",
       "    .dataframe thead th {\n",
       "        text-align: right;\n",
       "    }\n",
       "</style>\n",
       "<table border=\"1\" class=\"dataframe\">\n",
       "  <thead>\n",
       "    <tr style=\"text-align: right;\">\n",
       "      <th></th>\n",
       "      <th>ID</th>\n",
       "      <th>Year_Birth</th>\n",
       "      <th>Education</th>\n",
       "      <th>Marital_Status</th>\n",
       "      <th>Income</th>\n",
       "      <th>Kidhome</th>\n",
       "      <th>Teenhome</th>\n",
       "      <th>Dt_Customer</th>\n",
       "      <th>Recency</th>\n",
       "      <th>MntWines</th>\n",
       "      <th>MntFruits</th>\n",
       "      <th>MntMeatProducts</th>\n",
       "      <th>MntFishProducts</th>\n",
       "      <th>MntSweetProducts</th>\n",
       "      <th>MntGoldProds</th>\n",
       "      <th>NumDealsPurchases</th>\n",
       "      <th>NumWebPurchases</th>\n",
       "      <th>NumCatalogPurchases</th>\n",
       "      <th>NumStorePurchases</th>\n",
       "      <th>NumWebVisitsMonth</th>\n",
       "      <th>AcceptedCmp3</th>\n",
       "      <th>AcceptedCmp4</th>\n",
       "      <th>AcceptedCmp5</th>\n",
       "      <th>AcceptedCmp1</th>\n",
       "      <th>AcceptedCmp2</th>\n",
       "      <th>Complain</th>\n",
       "      <th>Z_CostContact</th>\n",
       "      <th>Z_Revenue</th>\n",
       "      <th>Response</th>\n",
       "    </tr>\n",
       "  </thead>\n",
       "  <tbody>\n",
       "    <tr>\n",
       "      <th>0</th>\n",
       "      <td>5524</td>\n",
       "      <td>1957</td>\n",
       "      <td>Graduation</td>\n",
       "      <td>Single</td>\n",
       "      <td>58138.0</td>\n",
       "      <td>0</td>\n",
       "      <td>0</td>\n",
       "      <td>04-09-2012</td>\n",
       "      <td>58</td>\n",
       "      <td>635</td>\n",
       "      <td>88</td>\n",
       "      <td>546</td>\n",
       "      <td>172</td>\n",
       "      <td>88</td>\n",
       "      <td>88</td>\n",
       "      <td>3</td>\n",
       "      <td>8</td>\n",
       "      <td>10</td>\n",
       "      <td>4</td>\n",
       "      <td>7</td>\n",
       "      <td>0</td>\n",
       "      <td>0</td>\n",
       "      <td>0</td>\n",
       "      <td>0</td>\n",
       "      <td>0</td>\n",
       "      <td>0</td>\n",
       "      <td>3</td>\n",
       "      <td>11</td>\n",
       "      <td>1</td>\n",
       "    </tr>\n",
       "    <tr>\n",
       "      <th>1</th>\n",
       "      <td>2174</td>\n",
       "      <td>1954</td>\n",
       "      <td>Graduation</td>\n",
       "      <td>Single</td>\n",
       "      <td>46344.0</td>\n",
       "      <td>1</td>\n",
       "      <td>1</td>\n",
       "      <td>08-03-2014</td>\n",
       "      <td>38</td>\n",
       "      <td>11</td>\n",
       "      <td>1</td>\n",
       "      <td>6</td>\n",
       "      <td>2</td>\n",
       "      <td>1</td>\n",
       "      <td>6</td>\n",
       "      <td>2</td>\n",
       "      <td>1</td>\n",
       "      <td>1</td>\n",
       "      <td>2</td>\n",
       "      <td>5</td>\n",
       "      <td>0</td>\n",
       "      <td>0</td>\n",
       "      <td>0</td>\n",
       "      <td>0</td>\n",
       "      <td>0</td>\n",
       "      <td>0</td>\n",
       "      <td>3</td>\n",
       "      <td>11</td>\n",
       "      <td>0</td>\n",
       "    </tr>\n",
       "    <tr>\n",
       "      <th>2</th>\n",
       "      <td>4141</td>\n",
       "      <td>1965</td>\n",
       "      <td>Graduation</td>\n",
       "      <td>Together</td>\n",
       "      <td>71613.0</td>\n",
       "      <td>0</td>\n",
       "      <td>0</td>\n",
       "      <td>21-08-2013</td>\n",
       "      <td>26</td>\n",
       "      <td>426</td>\n",
       "      <td>49</td>\n",
       "      <td>127</td>\n",
       "      <td>111</td>\n",
       "      <td>21</td>\n",
       "      <td>42</td>\n",
       "      <td>1</td>\n",
       "      <td>8</td>\n",
       "      <td>2</td>\n",
       "      <td>10</td>\n",
       "      <td>4</td>\n",
       "      <td>0</td>\n",
       "      <td>0</td>\n",
       "      <td>0</td>\n",
       "      <td>0</td>\n",
       "      <td>0</td>\n",
       "      <td>0</td>\n",
       "      <td>3</td>\n",
       "      <td>11</td>\n",
       "      <td>0</td>\n",
       "    </tr>\n",
       "  </tbody>\n",
       "</table>\n",
       "</div>"
      ],
      "text/plain": [
       "     ID  Year_Birth   Education Marital_Status   Income  Kidhome  Teenhome  \\\n",
       "0  5524        1957  Graduation         Single  58138.0        0         0   \n",
       "1  2174        1954  Graduation         Single  46344.0        1         1   \n",
       "2  4141        1965  Graduation       Together  71613.0        0         0   \n",
       "\n",
       "  Dt_Customer  Recency  MntWines  MntFruits  MntMeatProducts  MntFishProducts  \\\n",
       "0  04-09-2012       58       635         88              546              172   \n",
       "1  08-03-2014       38        11          1                6                2   \n",
       "2  21-08-2013       26       426         49              127              111   \n",
       "\n",
       "   MntSweetProducts  MntGoldProds  NumDealsPurchases  NumWebPurchases  \\\n",
       "0                88            88                  3                8   \n",
       "1                 1             6                  2                1   \n",
       "2                21            42                  1                8   \n",
       "\n",
       "   NumCatalogPurchases  NumStorePurchases  NumWebVisitsMonth  AcceptedCmp3  \\\n",
       "0                   10                  4                  7             0   \n",
       "1                    1                  2                  5             0   \n",
       "2                    2                 10                  4             0   \n",
       "\n",
       "   AcceptedCmp4  AcceptedCmp5  AcceptedCmp1  AcceptedCmp2  Complain  \\\n",
       "0             0             0             0             0         0   \n",
       "1             0             0             0             0         0   \n",
       "2             0             0             0             0         0   \n",
       "\n",
       "   Z_CostContact  Z_Revenue  Response  \n",
       "0              3         11         1  \n",
       "1              3         11         0  \n",
       "2              3         11         0  "
      ]
     },
     "execution_count": 2,
     "metadata": {},
     "output_type": "execute_result"
    }
   ],
   "source": [
    "df = pd.read_csv(\"marketing_campaign.csv\", sep=\"\\t\").copy()\n",
    "df.head(3)"
   ]
  },
  {
   "cell_type": "code",
   "execution_count": 3,
   "id": "Yhvbt9NA-bW7",
   "metadata": {
    "colab": {
     "base_uri": "https://localhost:8080/"
    },
    "executionInfo": {
     "elapsed": 397,
     "status": "ok",
     "timestamp": 1678668576259,
     "user": {
      "displayName": "FAIZA YUSUF",
      "userId": "15731917094248524976"
     },
     "user_tz": 0
    },
    "id": "Yhvbt9NA-bW7",
    "outputId": "08046ce5-6b8f-471b-efcf-17d9d82ce932"
   },
   "outputs": [
    {
     "data": {
      "text/plain": [
       "(2240, 29)"
      ]
     },
     "execution_count": 3,
     "metadata": {},
     "output_type": "execute_result"
    }
   ],
   "source": [
    "df.shape"
   ]
  },
  {
   "cell_type": "code",
   "execution_count": 4,
   "id": "bLpgp1CM3h2p",
   "metadata": {
    "colab": {
     "base_uri": "https://localhost:8080/"
    },
    "executionInfo": {
     "elapsed": 352,
     "status": "ok",
     "timestamp": 1678668580938,
     "user": {
      "displayName": "FAIZA YUSUF",
      "userId": "15731917094248524976"
     },
     "user_tz": 0
    },
    "id": "bLpgp1CM3h2p",
    "outputId": "50b69450-e7f3-4b8e-e6c4-560363f824d8"
   },
   "outputs": [
    {
     "data": {
      "text/plain": [
       "Index(['ID', 'Year_Birth', 'Education', 'Marital_Status', 'Income', 'Kidhome',\n",
       "       'Teenhome', 'Dt_Customer', 'Recency', 'MntWines', 'MntFruits',\n",
       "       'MntMeatProducts', 'MntFishProducts', 'MntSweetProducts',\n",
       "       'MntGoldProds', 'NumDealsPurchases', 'NumWebPurchases',\n",
       "       'NumCatalogPurchases', 'NumStorePurchases', 'NumWebVisitsMonth',\n",
       "       'AcceptedCmp3', 'AcceptedCmp4', 'AcceptedCmp5', 'AcceptedCmp1',\n",
       "       'AcceptedCmp2', 'Complain', 'Z_CostContact', 'Z_Revenue', 'Response'],\n",
       "      dtype='object')"
      ]
     },
     "execution_count": 4,
     "metadata": {},
     "output_type": "execute_result"
    }
   ],
   "source": [
    "df.columns"
   ]
  },
  {
   "cell_type": "markdown",
   "id": "f3da9a91-96bf-4fb5-a0ee-2c13640367a5",
   "metadata": {
    "id": "f3da9a91-96bf-4fb5-a0ee-2c13640367a5"
   },
   "source": [
    "## Qs 1\n",
    "* a) Find the average of all the total amount spent on products. Call this variable `Avg_amount`. \n",
    "* b) Convert the `Avg_amount` to deciles (0,1,2,...,9) by creating a new variable, `Avg_amount(weights)` such that the higher the Avg_score, the higher the weight.\n",
    "\n",
    "    * **COMPULSORY**: Validate your resulting by running:\n",
    "\n",
    "```python\n",
    "df[[\"Total_amount\", \"Avg_amount\", \"Avg_amount(weights)\"]].sample(n=5, random_state=2)\n",
    "```"
   ]
  },
  {
   "cell_type": "code",
   "execution_count": 5,
   "id": "SZIY2IHx4lLB",
   "metadata": {
    "colab": {
     "base_uri": "https://localhost:8080/"
    },
    "executionInfo": {
     "elapsed": 346,
     "status": "ok",
     "timestamp": 1678668586183,
     "user": {
      "displayName": "FAIZA YUSUF",
      "userId": "15731917094248524976"
     },
     "user_tz": 0
    },
    "id": "SZIY2IHx4lLB",
    "outputId": "cbb65e52-1084-4063-9384-ac6f8ce54e3f"
   },
   "outputs": [
    {
     "data": {
      "text/plain": [
       "Index(['ID', 'Year_Birth', 'Education', 'Marital_Status', 'Income', 'Kidhome',\n",
       "       'Teenhome', 'Dt_Customer', 'Recency', 'MntWines', 'MntFruits',\n",
       "       'MntMeatProducts', 'MntFishProducts', 'MntSweetProducts',\n",
       "       'MntGoldProds', 'NumDealsPurchases', 'NumWebPurchases',\n",
       "       'NumCatalogPurchases', 'NumStorePurchases', 'NumWebVisitsMonth',\n",
       "       'AcceptedCmp3', 'AcceptedCmp4', 'AcceptedCmp5', 'AcceptedCmp1',\n",
       "       'AcceptedCmp2', 'Complain', 'Z_CostContact', 'Z_Revenue', 'Response'],\n",
       "      dtype='object')"
      ]
     },
     "execution_count": 5,
     "metadata": {},
     "output_type": "execute_result"
    }
   ],
   "source": [
    "columns = df.columns\n",
    "columns"
   ]
  },
  {
   "cell_type": "code",
   "execution_count": 6,
   "id": "vg-dwiBiDH4L",
   "metadata": {
    "colab": {
     "base_uri": "https://localhost:8080/"
    },
    "executionInfo": {
     "elapsed": 704,
     "status": "ok",
     "timestamp": 1678668591074,
     "user": {
      "displayName": "FAIZA YUSUF",
      "userId": "15731917094248524976"
     },
     "user_tz": 0
    },
    "id": "vg-dwiBiDH4L",
    "outputId": "e075a8d3-31ef-49fc-9d93-64dd818d6871"
   },
   "outputs": [
    {
     "data": {
      "text/plain": [
       "['MntWines',\n",
       " 'MntFruits',\n",
       " 'MntMeatProducts',\n",
       " 'MntFishProducts',\n",
       " 'MntSweetProducts',\n",
       " 'MntGoldProds']"
      ]
     },
     "execution_count": 6,
     "metadata": {},
     "output_type": "execute_result"
    }
   ],
   "source": [
    "# getting the columns of prouct\n",
    "product = [ var for var in columns if \"Mnt\" in var]\n",
    "product"
   ]
  },
  {
   "cell_type": "code",
   "execution_count": 7,
   "id": "8kNgto0MKPiU",
   "metadata": {
    "id": "8kNgto0MKPiU"
   },
   "outputs": [],
   "source": [
    "# finding the total sum of product per observation\n",
    "df['total_amount'] = np.round(df[product].sum(axis=1),2)"
   ]
  },
  {
   "cell_type": "code",
   "execution_count": 147,
   "id": "85748e20-5fdf-4a91-94a7-fe85678d411b",
   "metadata": {
    "id": "85748e20-5fdf-4a91-94a7-fe85678d411b"
   },
   "outputs": [],
   "source": [
    "# 1a Enter your solution here\n",
    "df[\"Avg_amount\"] = np.round(df[product].mean(axis=1), 2)"
   ]
  },
  {
   "cell_type": "code",
   "execution_count": 168,
   "id": "GuF7MwJpGmLD",
   "metadata": {
    "colab": {
     "base_uri": "https://localhost:8080/"
    },
    "executionInfo": {
     "elapsed": 410,
     "status": "ok",
     "timestamp": 1678668611557,
     "user": {
      "displayName": "FAIZA YUSUF",
      "userId": "15731917094248524976"
     },
     "user_tz": 0
    },
    "id": "GuF7MwJpGmLD",
    "outputId": "d12a68c5-f7b6-44fc-a654-5d96b32c5f3a"
   },
   "outputs": [
    {
     "data": {
      "text/plain": [
       "{'(256.033, 420.83]': '9',\n",
       " '(0.829, 5.814]': '0',\n",
       " '(105.898, 154.33]': '6',\n",
       " '(5.814, 9.17]': '1',\n",
       " '(66.0, 105.898]': '5',\n",
       " '(15.17, 32.432]': '3',\n",
       " '(9.17, 15.17]': '2',\n",
       " '(154.33, 195.67]': '7',\n",
       " '(32.432, 66.0]': '4',\n",
       " '(195.67, 256.033]': '8'}"
      ]
     },
     "execution_count": 168,
     "metadata": {},
     "output_type": "execute_result"
    }
   ],
   "source": [
    "# 1b Enter your solution here\n",
    "avg_amount = df[\"Avg_amount\"]\n",
    "num_bins = 10 # No of groups\n",
    "label = np.arange(0,10) #no of label\n",
    "\n",
    "amount_bin = pd.qcut(\n",
    "                       x=avg_amount, q=num_bins, duplicates=\"drop\"\n",
    "                       ).astype(str)\n",
    "\n",
    "df[\"Avg_amount(weights)\"] = pd.qcut(\n",
    "                                     x=avg_amount, q=num_bins, labels=label, duplicates=\"drop\"\n",
    "                                     ).astype(str)\n",
    "\n",
    "dict_ = dict(itertools.zip_longest(amount_bin, df[\"Avg_amount(weights)\"]))\n",
    "dict_"
   ]
  },
  {
   "cell_type": "code",
   "execution_count": 159,
   "id": "0da54157-0075-452f-9c79-832bba4969f3",
   "metadata": {
    "colab": {
     "base_uri": "https://localhost:8080/",
     "height": 206
    },
    "executionInfo": {
     "elapsed": 473,
     "status": "ok",
     "timestamp": 1678668620065,
     "user": {
      "displayName": "FAIZA YUSUF",
      "userId": "15731917094248524976"
     },
     "user_tz": 0
    },
    "id": "0da54157-0075-452f-9c79-832bba4969f3",
    "outputId": "44a2b2a3-45e8-499f-a228-2045cfca8bbe"
   },
   "outputs": [
    {
     "data": {
      "text/html": [
       "<div>\n",
       "<style scoped>\n",
       "    .dataframe tbody tr th:only-of-type {\n",
       "        vertical-align: middle;\n",
       "    }\n",
       "\n",
       "    .dataframe tbody tr th {\n",
       "        vertical-align: top;\n",
       "    }\n",
       "\n",
       "    .dataframe thead th {\n",
       "        text-align: right;\n",
       "    }\n",
       "</style>\n",
       "<table border=\"1\" class=\"dataframe\">\n",
       "  <thead>\n",
       "    <tr style=\"text-align: right;\">\n",
       "      <th></th>\n",
       "      <th>total_amount</th>\n",
       "      <th>Avg_amount</th>\n",
       "      <th>Avg_amount(weights)</th>\n",
       "    </tr>\n",
       "  </thead>\n",
       "  <tbody>\n",
       "    <tr>\n",
       "      <th>2053</th>\n",
       "      <td>71</td>\n",
       "      <td>11.83</td>\n",
       "      <td>2</td>\n",
       "    </tr>\n",
       "    <tr>\n",
       "      <th>2019</th>\n",
       "      <td>22</td>\n",
       "      <td>3.67</td>\n",
       "      <td>0</td>\n",
       "    </tr>\n",
       "    <tr>\n",
       "      <th>1891</th>\n",
       "      <td>2069</td>\n",
       "      <td>344.83</td>\n",
       "      <td>9</td>\n",
       "    </tr>\n",
       "    <tr>\n",
       "      <th>335</th>\n",
       "      <td>946</td>\n",
       "      <td>157.67</td>\n",
       "      <td>7</td>\n",
       "    </tr>\n",
       "    <tr>\n",
       "      <th>1600</th>\n",
       "      <td>562</td>\n",
       "      <td>93.67</td>\n",
       "      <td>5</td>\n",
       "    </tr>\n",
       "  </tbody>\n",
       "</table>\n",
       "</div>"
      ],
      "text/plain": [
       "      total_amount  Avg_amount Avg_amount(weights)\n",
       "2053            71       11.83                   2\n",
       "2019            22        3.67                   0\n",
       "1891          2069      344.83                   9\n",
       "335            946      157.67                   7\n",
       "1600           562       93.67                   5"
      ]
     },
     "execution_count": 159,
     "metadata": {},
     "output_type": "execute_result"
    }
   ],
   "source": [
    "df[[\"total_amount\", \"Avg_amount\", \"Avg_amount(weights)\"]].sample(n=5, random_state=2)"
   ]
  },
  {
   "cell_type": "code",
   "execution_count": null,
   "id": "8zF8DCJ-CmrN",
   "metadata": {
    "id": "8zF8DCJ-CmrN"
   },
   "outputs": [],
   "source": []
  },
  {
   "cell_type": "markdown",
   "id": "7a694813-9c95-479a-a12e-3577c1b9d497",
   "metadata": {
    "id": "7a694813-9c95-479a-a12e-3577c1b9d497"
   },
   "source": [
    "## Qs 2. \n",
    "* a) Calculate the percentage of the customer's Income spent on purchasing products.\n",
    "    \n",
    "    * **COMPULSORY**: Validate your resulting by running:\n",
    "\n",
    "```python\n",
    "df[[\"Total_amount\", \"Avg_amount\", \"Avg_amount(weights)\"]].sample(n=5, random_state=2)\n",
    "```\n",
    "\n",
    "* b) Create a pie chart showing the total amount spent by the customers grouped by their `Marital_status`\n",
    "    Note: Any customer that is not ***single***, ***together***, ***married*** or ***divorced*** should be considered as **others**."
   ]
  },
  {
   "cell_type": "code",
   "execution_count": 160,
   "id": "5712c2ec-da5b-4dd8-b37e-7fdb0ba7927c",
   "metadata": {
    "colab": {
     "base_uri": "https://localhost:8080/",
     "height": 206
    },
    "executionInfo": {
     "elapsed": 422,
     "status": "ok",
     "timestamp": 1678668820354,
     "user": {
      "displayName": "FAIZA YUSUF",
      "userId": "15731917094248524976"
     },
     "user_tz": 0
    },
    "id": "5712c2ec-da5b-4dd8-b37e-7fdb0ba7927c",
    "outputId": "1cbdc71d-a6ce-4ad1-f6ec-9f65ebd06486",
    "scrolled": true
   },
   "outputs": [
    {
     "data": {
      "text/html": [
       "<div>\n",
       "<style scoped>\n",
       "    .dataframe tbody tr th:only-of-type {\n",
       "        vertical-align: middle;\n",
       "    }\n",
       "\n",
       "    .dataframe tbody tr th {\n",
       "        vertical-align: top;\n",
       "    }\n",
       "\n",
       "    .dataframe thead th {\n",
       "        text-align: right;\n",
       "    }\n",
       "</style>\n",
       "<table border=\"1\" class=\"dataframe\">\n",
       "  <thead>\n",
       "    <tr style=\"text-align: right;\">\n",
       "      <th></th>\n",
       "      <th>total_amount</th>\n",
       "      <th>Avg_amount</th>\n",
       "      <th>Avg_amount(weights)</th>\n",
       "      <th>percentage_income_spent</th>\n",
       "    </tr>\n",
       "  </thead>\n",
       "  <tbody>\n",
       "    <tr>\n",
       "      <th>2053</th>\n",
       "      <td>71</td>\n",
       "      <td>11.83</td>\n",
       "      <td>2</td>\n",
       "      <td>0.19</td>\n",
       "    </tr>\n",
       "    <tr>\n",
       "      <th>2019</th>\n",
       "      <td>22</td>\n",
       "      <td>3.67</td>\n",
       "      <td>0</td>\n",
       "      <td>0.07</td>\n",
       "    </tr>\n",
       "    <tr>\n",
       "      <th>1891</th>\n",
       "      <td>2069</td>\n",
       "      <td>344.83</td>\n",
       "      <td>9</td>\n",
       "      <td>2.34</td>\n",
       "    </tr>\n",
       "    <tr>\n",
       "      <th>335</th>\n",
       "      <td>946</td>\n",
       "      <td>157.67</td>\n",
       "      <td>7</td>\n",
       "      <td>1.52</td>\n",
       "    </tr>\n",
       "    <tr>\n",
       "      <th>1600</th>\n",
       "      <td>562</td>\n",
       "      <td>93.67</td>\n",
       "      <td>5</td>\n",
       "      <td>1.04</td>\n",
       "    </tr>\n",
       "  </tbody>\n",
       "</table>\n",
       "</div>"
      ],
      "text/plain": [
       "      total_amount  Avg_amount Avg_amount(weights)  percentage_income_spent\n",
       "2053            71       11.83                   2                     0.19\n",
       "2019            22        3.67                   0                     0.07\n",
       "1891          2069      344.83                   9                     2.34\n",
       "335            946      157.67                   7                     1.52\n",
       "1600           562       93.67                   5                     1.04"
      ]
     },
     "execution_count": 160,
     "metadata": {},
     "output_type": "execute_result"
    }
   ],
   "source": [
    "# 2i Enter your solution here\n",
    "df['percentage_income_spent'] = round(np.divide(df[\"total_amount\"],df[\"Income\"]).mul(100),2)\n",
    "df[[\"total_amount\", \"Avg_amount\", \"Avg_amount(weights)\", \"percentage_income_spent\"]].sample(n=5, random_state=2)"
   ]
  },
  {
   "cell_type": "code",
   "execution_count": 23,
   "id": "aCkTdcRIe9rk",
   "metadata": {
    "id": "aCkTdcRIe9rk"
   },
   "outputs": [],
   "source": [
    "def maritalStatus(val: str):\n",
    "    if val == \"Widow\" or val == \"Alone\" or val == \"Absurd\" or val == \"YOLO\":\n",
    "        val = \"Others\"\n",
    "    return val"
   ]
  },
  {
   "cell_type": "code",
   "execution_count": 24,
   "id": "4hydVuvQbkij",
   "metadata": {
    "colab": {
     "base_uri": "https://localhost:8080/"
    },
    "executionInfo": {
     "elapsed": 379,
     "status": "ok",
     "timestamp": 1678668865200,
     "user": {
      "displayName": "FAIZA YUSUF",
      "userId": "15731917094248524976"
     },
     "user_tz": 0
    },
    "id": "4hydVuvQbkij",
    "outputId": "f692c32c-4f43-412e-855e-0e2176c9fecb"
   },
   "outputs": [
    {
     "name": "stdout",
     "output_type": "stream",
     "text": [
      "['Single' 'Together' 'Married' 'Divorced' 'Others']\n",
      "\n",
      "\n",
      "Marital_Status\n",
      "Divorced    141666\n",
      "Married     510453\n",
      "Others       60892\n",
      "Single      291112\n",
      "Together    352865\n",
      "Name: total_amount, dtype: int64\n"
     ]
    }
   ],
   "source": [
    "temp = df[\"Marital_Status\"].apply(lambda value: maritalStatus(value))\n",
    "x = df.groupby(temp)[\"total_amount\"].sum()\n",
    "print(temp.unique())\n",
    "print(\"\\n\")\n",
    "print(x)"
   ]
  },
  {
   "cell_type": "code",
   "execution_count": 25,
   "id": "H3KxmMIlbkvK",
   "metadata": {
    "colab": {
     "base_uri": "https://localhost:8080/",
     "height": 614
    },
    "executionInfo": {
     "elapsed": 484,
     "status": "ok",
     "timestamp": 1678668873367,
     "user": {
      "displayName": "FAIZA YUSUF",
      "userId": "15731917094248524976"
     },
     "user_tz": 0
    },
    "id": "H3KxmMIlbkvK",
    "outputId": "230ecd64-bad8-47bd-8315-c0fea2d22b78"
   },
   "outputs": [
    {
     "data": {
      "image/png": "[encoded data removed]",
      "text/plain": [
       "<Figure size 720x864 with 1 Axes>"
      ]
     },
     "metadata": {},
     "output_type": "display_data"
    }
   ],
   "source": [
    "# 2b Enter your solution here\n",
    "plt.figure(figsize=[10,12])\n",
    "plt.pie(x, labels=x.index, autopct=\"%1.1f%%\", pctdistance=0.5)\n",
    "plt.title(\"Percentage of Marital Status\", size=25)\n",
    "plt.show()"
   ]
  },
  {
   "cell_type": "code",
   "execution_count": null,
   "id": "15OdoIOJ95FD",
   "metadata": {
    "id": "15OdoIOJ95FD"
   },
   "outputs": [],
   "source": []
  },
  {
   "cell_type": "code",
   "execution_count": null,
   "id": "YSaBVILK95YX",
   "metadata": {
    "id": "YSaBVILK95YX"
   },
   "outputs": [],
   "source": []
  },
  {
   "cell_type": "markdown",
   "id": "a584bf3e-01a4-49c3-ad12-18dd420ffa0b",
   "metadata": {
    "id": "a584bf3e-01a4-49c3-ad12-18dd420ffa0b"
   },
   "source": [
    "\n",
    "## Qs 3.  \n",
    "* a) Create a new variable called `Recency(weights)` which is obtained by dividing the `Recency` variable into quintiles (0,1,2,3,4) such that customers lower Recency values have higher weights. i.e the smaller the recency value, the greater the `Recency(weights)`.\n",
    "\n",
    "    * **COMPULSORY**: Validate your resulting by running:\n",
    "\n",
    "```python\n",
    "df[[\"Total_amount\", \"Avg_amount\", \"Avg_amount(weights)\"]].sample(n=5, random_state=2)\n",
    "```\n",
    "\n",
    "* b) What is the percentage of customers that accepted at least an offer after the end of the promotion campaign?"
   ]
  },
  {
   "cell_type": "code",
   "execution_count": 29,
   "id": "df783f1e-bd9c-4e14-84d5-22e755b8143d",
   "metadata": {
    "colab": {
     "base_uri": "https://localhost:8080/"
    },
    "executionInfo": {
     "elapsed": 406,
     "status": "ok",
     "timestamp": 1678668891099,
     "user": {
      "displayName": "FAIZA YUSUF",
      "userId": "15731917094248524976"
     },
     "user_tz": 0
    },
    "id": "df783f1e-bd9c-4e14-84d5-22e755b8143d",
    "outputId": "a6365e10-38d6-4ad2-8109-89eba2992b7a"
   },
   "outputs": [
    {
     "data": {
      "text/plain": [
       "{'(39.0, 59.0]': '2',\n",
       " '(19.0, 39.0]': '3',\n",
       " '(79.0, 99.0]': '0',\n",
       " '(-0.001, 19.0]': '4',\n",
       " '(59.0, 79.0]': '1'}"
      ]
     },
     "execution_count": 29,
     "metadata": {},
     "output_type": "execute_result"
    }
   ],
   "source": [
    "# 3a Enter your solution here\n",
    "\n",
    "recency = df[\"Recency\"]\n",
    "num_bins = 5 # No of groups\n",
    "label = np.flip(np.arange(0,5)) #no of label\n",
    "\n",
    "recency_bin = pd.qcut(\n",
    "                       x=recency, q=num_bins, duplicates=\"drop\"\n",
    "                       ).astype(str)\n",
    "\n",
    "df[\"Recency(weights)\"]= pd.qcut(\n",
    "                                 x=recency, q=num_bins, labels=label, duplicates=\"drop\"\n",
    "                                ).astype(str)                    \n",
    "\n",
    "dict_ = dict(itertools.zip_longest(recency_bin, df[\"Recency(weights)\"]))\n",
    "dict_"
   ]
  },
  {
   "cell_type": "code",
   "execution_count": 30,
   "id": "m9Pm0NefGuLJ",
   "metadata": {
    "colab": {
     "base_uri": "https://localhost:8080/",
     "height": 206
    },
    "executionInfo": {
     "elapsed": 420,
     "status": "ok",
     "timestamp": 1678668896751,
     "user": {
      "displayName": "FAIZA YUSUF",
      "userId": "15731917094248524976"
     },
     "user_tz": 0
    },
    "id": "m9Pm0NefGuLJ",
    "outputId": "38253d78-d648-420a-8b3c-c3e05f2747ee"
   },
   "outputs": [
    {
     "data": {
      "text/html": [
       "<div>\n",
       "<style scoped>\n",
       "    .dataframe tbody tr th:only-of-type {\n",
       "        vertical-align: middle;\n",
       "    }\n",
       "\n",
       "    .dataframe tbody tr th {\n",
       "        vertical-align: top;\n",
       "    }\n",
       "\n",
       "    .dataframe thead th {\n",
       "        text-align: right;\n",
       "    }\n",
       "</style>\n",
       "<table border=\"1\" class=\"dataframe\">\n",
       "  <thead>\n",
       "    <tr style=\"text-align: right;\">\n",
       "      <th></th>\n",
       "      <th>Recency</th>\n",
       "      <th>Recency(weights)</th>\n",
       "    </tr>\n",
       "  </thead>\n",
       "  <tbody>\n",
       "    <tr>\n",
       "      <th>2053</th>\n",
       "      <td>46</td>\n",
       "      <td>2</td>\n",
       "    </tr>\n",
       "    <tr>\n",
       "      <th>2019</th>\n",
       "      <td>75</td>\n",
       "      <td>1</td>\n",
       "    </tr>\n",
       "    <tr>\n",
       "      <th>1891</th>\n",
       "      <td>87</td>\n",
       "      <td>0</td>\n",
       "    </tr>\n",
       "    <tr>\n",
       "      <th>335</th>\n",
       "      <td>38</td>\n",
       "      <td>3</td>\n",
       "    </tr>\n",
       "    <tr>\n",
       "      <th>1600</th>\n",
       "      <td>64</td>\n",
       "      <td>1</td>\n",
       "    </tr>\n",
       "  </tbody>\n",
       "</table>\n",
       "</div>"
      ],
      "text/plain": [
       "      Recency Recency(weights)\n",
       "2053       46                2\n",
       "2019       75                1\n",
       "1891       87                0\n",
       "335        38                3\n",
       "1600       64                1"
      ]
     },
     "execution_count": 30,
     "metadata": {},
     "output_type": "execute_result"
    }
   ],
   "source": [
    "df[[\"Recency\", \"Recency(weights)\"]].sample(n=5, random_state=2)"
   ]
  },
  {
   "cell_type": "code",
   "execution_count": 161,
   "id": "v_Y4hj3TBaWK",
   "metadata": {
    "colab": {
     "base_uri": "https://localhost:8080/",
     "height": 206
    },
    "executionInfo": {
     "elapsed": 473,
     "status": "ok",
     "timestamp": 1678668911142,
     "user": {
      "displayName": "FAIZA YUSUF",
      "userId": "15731917094248524976"
     },
     "user_tz": 0
    },
    "id": "v_Y4hj3TBaWK",
    "outputId": "0ccfd05b-4377-44e0-d0df-0cfd50202d71"
   },
   "outputs": [
    {
     "data": {
      "text/html": [
       "<div>\n",
       "<style scoped>\n",
       "    .dataframe tbody tr th:only-of-type {\n",
       "        vertical-align: middle;\n",
       "    }\n",
       "\n",
       "    .dataframe tbody tr th {\n",
       "        vertical-align: top;\n",
       "    }\n",
       "\n",
       "    .dataframe thead th {\n",
       "        text-align: right;\n",
       "    }\n",
       "</style>\n",
       "<table border=\"1\" class=\"dataframe\">\n",
       "  <thead>\n",
       "    <tr style=\"text-align: right;\">\n",
       "      <th></th>\n",
       "      <th>total_amount</th>\n",
       "      <th>Avg_amount</th>\n",
       "      <th>Avg_amount(weights)</th>\n",
       "    </tr>\n",
       "  </thead>\n",
       "  <tbody>\n",
       "    <tr>\n",
       "      <th>2053</th>\n",
       "      <td>71</td>\n",
       "      <td>11.83</td>\n",
       "      <td>2</td>\n",
       "    </tr>\n",
       "    <tr>\n",
       "      <th>2019</th>\n",
       "      <td>22</td>\n",
       "      <td>3.67</td>\n",
       "      <td>0</td>\n",
       "    </tr>\n",
       "    <tr>\n",
       "      <th>1891</th>\n",
       "      <td>2069</td>\n",
       "      <td>344.83</td>\n",
       "      <td>9</td>\n",
       "    </tr>\n",
       "    <tr>\n",
       "      <th>335</th>\n",
       "      <td>946</td>\n",
       "      <td>157.67</td>\n",
       "      <td>7</td>\n",
       "    </tr>\n",
       "    <tr>\n",
       "      <th>1600</th>\n",
       "      <td>562</td>\n",
       "      <td>93.67</td>\n",
       "      <td>5</td>\n",
       "    </tr>\n",
       "  </tbody>\n",
       "</table>\n",
       "</div>"
      ],
      "text/plain": [
       "      total_amount  Avg_amount Avg_amount(weights)\n",
       "2053            71       11.83                   2\n",
       "2019            22        3.67                   0\n",
       "1891          2069      344.83                   9\n",
       "335            946      157.67                   7\n",
       "1600           562       93.67                   5"
      ]
     },
     "execution_count": 161,
     "metadata": {},
     "output_type": "execute_result"
    }
   ],
   "source": [
    "df[[\"total_amount\", \"Avg_amount\", \"Avg_amount(weights)\"]].sample(n=5, random_state=2)"
   ]
  },
  {
   "cell_type": "code",
   "execution_count": null,
   "id": "bg6Y3Bi4I2Ct",
   "metadata": {
    "id": "bg6Y3Bi4I2Ct"
   },
   "outputs": [],
   "source": []
  },
  {
   "cell_type": "code",
   "execution_count": 32,
   "id": "wmiRO8HuI2Pd",
   "metadata": {
    "colab": {
     "base_uri": "https://localhost:8080/"
    },
    "executionInfo": {
     "elapsed": 417,
     "status": "ok",
     "timestamp": 1678668918249,
     "user": {
      "displayName": "FAIZA YUSUF",
      "userId": "15731917094248524976"
     },
     "user_tz": 0
    },
    "id": "wmiRO8HuI2Pd",
    "outputId": "839c75ce-64a0-4419-c603-65601048bce7"
   },
   "outputs": [
    {
     "data": {
      "text/plain": [
       "['AcceptedCmp3',\n",
       " 'AcceptedCmp4',\n",
       " 'AcceptedCmp5',\n",
       " 'AcceptedCmp1',\n",
       " 'AcceptedCmp2',\n",
       " 'Response']"
      ]
     },
     "execution_count": 32,
     "metadata": {},
     "output_type": "execute_result"
    }
   ],
   "source": [
    "# getting the columns of campaign\n",
    "campaign = [ var for var in columns if \"Accepted\" in var]\n",
    "campaign.append(\"Response\")\n",
    "campaign"
   ]
  },
  {
   "cell_type": "code",
   "execution_count": 33,
   "id": "u4q93WPdI2SW",
   "metadata": {
    "colab": {
     "base_uri": "https://localhost:8080/"
    },
    "executionInfo": {
     "elapsed": 424,
     "status": "ok",
     "timestamp": 1678668924602,
     "user": {
      "displayName": "FAIZA YUSUF",
      "userId": "15731917094248524976"
     },
     "user_tz": 0
    },
    "id": "u4q93WPdI2SW",
    "outputId": "4d6588e9-81f5-4e0a-8a96-5951c86af880"
   },
   "outputs": [
    {
     "name": "stdout",
     "output_type": "stream",
     "text": [
      " The percentage of customers that accepted at least one campaign is: 27.19%\n"
     ]
    }
   ],
   "source": [
    "# 3b Enter your solution here\n",
    "df[\"total_promotion\"] = df[campaign].sum(axis= 1)\n",
    "atleast_one_promotion = df[df[\"total_promotion\"] >= 1]\n",
    "percentage_atleast_one_promotion = round((atleast_one_promotion.shape[0]/df.shape[0]) * 100, 2)\n",
    "print(f\" The percentage of customers that accepted at least one campaign is: {percentage_atleast_one_promotion}%\")"
   ]
  },
  {
   "cell_type": "code",
   "execution_count": null,
   "id": "6a3f7861-637a-4d9a-8f2b-b7294a16a908",
   "metadata": {
    "id": "6a3f7861-637a-4d9a-8f2b-b7294a16a908"
   },
   "outputs": [],
   "source": []
  },
  {
   "cell_type": "markdown",
   "id": "e276adc7-89d9-4e69-8436-9336be6c5304",
   "metadata": {
    "id": "e276adc7-89d9-4e69-8436-9336be6c5304"
   },
   "source": [
    "## Qs 4.  \n",
    "* a) Calculate the frequency of the purchases. (Do this by finding the total number of purchases made by every customer)\n",
    "* b) Create a new variable, `Frequency(weights)` by converting the result from the previous question to quartiles (0,1,2,3) such that the higher the `Frequency`, the higher the weight.\n",
    "\n",
    "    * **COMPULSORY**: Validate your resulting by running:\n",
    "\n",
    "```python\n",
    "df[[\"Total_amount\", \"Avg_amount\", \"Avg_amount(weights)\"]].sample(n=5, random_state=2)\n",
    "```"
   ]
  },
  {
   "cell_type": "code",
   "execution_count": 34,
   "id": "HpqJm7Q9PGZh",
   "metadata": {
    "colab": {
     "base_uri": "https://localhost:8080/"
    },
    "executionInfo": {
     "elapsed": 409,
     "status": "ok",
     "timestamp": 1678668930940,
     "user": {
      "displayName": "FAIZA YUSUF",
      "userId": "15731917094248524976"
     },
     "user_tz": 0
    },
    "id": "HpqJm7Q9PGZh",
    "outputId": "a7d13612-58ed-4a5e-8445-09a4ef8c1661"
   },
   "outputs": [
    {
     "data": {
      "text/plain": [
       "['NumWebPurchases', 'NumCatalogPurchases', 'NumStorePurchases']"
      ]
     },
     "execution_count": 34,
     "metadata": {},
     "output_type": "execute_result"
    }
   ],
   "source": [
    "# getting the columns of purchase\n",
    "purchase = [var for var in columns if \"Purchases\" in var]\n",
    "purchase.remove(\"NumDealsPurchases\")\n",
    "purchase"
   ]
  },
  {
   "cell_type": "code",
   "execution_count": 162,
   "id": "b9377e29-13e6-4a91-9120-07eb2d1a1768",
   "metadata": {
    "colab": {
     "base_uri": "https://localhost:8080/",
     "height": 424
    },
    "executionInfo": {
     "elapsed": 428,
     "status": "ok",
     "timestamp": 1678669016560,
     "user": {
      "displayName": "FAIZA YUSUF",
      "userId": "15731917094248524976"
     },
     "user_tz": 0
    },
    "id": "b9377e29-13e6-4a91-9120-07eb2d1a1768",
    "outputId": "5ecd3b9e-5359-4b5e-dd93-6104a825a336",
    "scrolled": true
   },
   "outputs": [
    {
     "data": {
      "text/html": [
       "<div>\n",
       "<style scoped>\n",
       "    .dataframe tbody tr th:only-of-type {\n",
       "        vertical-align: middle;\n",
       "    }\n",
       "\n",
       "    .dataframe tbody tr th {\n",
       "        vertical-align: top;\n",
       "    }\n",
       "\n",
       "    .dataframe thead th {\n",
       "        text-align: right;\n",
       "    }\n",
       "</style>\n",
       "<table border=\"1\" class=\"dataframe\">\n",
       "  <thead>\n",
       "    <tr style=\"text-align: right;\">\n",
       "      <th></th>\n",
       "      <th>NumWebPurchases</th>\n",
       "      <th>NumCatalogPurchases</th>\n",
       "      <th>NumStorePurchases</th>\n",
       "      <th>Frequencypurchase</th>\n",
       "    </tr>\n",
       "  </thead>\n",
       "  <tbody>\n",
       "    <tr>\n",
       "      <th>0</th>\n",
       "      <td>8</td>\n",
       "      <td>10</td>\n",
       "      <td>4</td>\n",
       "      <td>22</td>\n",
       "    </tr>\n",
       "    <tr>\n",
       "      <th>1</th>\n",
       "      <td>1</td>\n",
       "      <td>1</td>\n",
       "      <td>2</td>\n",
       "      <td>4</td>\n",
       "    </tr>\n",
       "    <tr>\n",
       "      <th>2</th>\n",
       "      <td>8</td>\n",
       "      <td>2</td>\n",
       "      <td>10</td>\n",
       "      <td>20</td>\n",
       "    </tr>\n",
       "    <tr>\n",
       "      <th>3</th>\n",
       "      <td>2</td>\n",
       "      <td>0</td>\n",
       "      <td>4</td>\n",
       "      <td>6</td>\n",
       "    </tr>\n",
       "    <tr>\n",
       "      <th>4</th>\n",
       "      <td>5</td>\n",
       "      <td>3</td>\n",
       "      <td>6</td>\n",
       "      <td>14</td>\n",
       "    </tr>\n",
       "    <tr>\n",
       "      <th>...</th>\n",
       "      <td>...</td>\n",
       "      <td>...</td>\n",
       "      <td>...</td>\n",
       "      <td>...</td>\n",
       "    </tr>\n",
       "    <tr>\n",
       "      <th>2235</th>\n",
       "      <td>9</td>\n",
       "      <td>3</td>\n",
       "      <td>4</td>\n",
       "      <td>16</td>\n",
       "    </tr>\n",
       "    <tr>\n",
       "      <th>2236</th>\n",
       "      <td>8</td>\n",
       "      <td>2</td>\n",
       "      <td>5</td>\n",
       "      <td>15</td>\n",
       "    </tr>\n",
       "    <tr>\n",
       "      <th>2237</th>\n",
       "      <td>2</td>\n",
       "      <td>3</td>\n",
       "      <td>13</td>\n",
       "      <td>18</td>\n",
       "    </tr>\n",
       "    <tr>\n",
       "      <th>2238</th>\n",
       "      <td>6</td>\n",
       "      <td>5</td>\n",
       "      <td>10</td>\n",
       "      <td>21</td>\n",
       "    </tr>\n",
       "    <tr>\n",
       "      <th>2239</th>\n",
       "      <td>3</td>\n",
       "      <td>1</td>\n",
       "      <td>4</td>\n",
       "      <td>8</td>\n",
       "    </tr>\n",
       "  </tbody>\n",
       "</table>\n",
       "<p>2240 rows × 4 columns</p>\n",
       "</div>"
      ],
      "text/plain": [
       "      NumWebPurchases  NumCatalogPurchases  NumStorePurchases  \\\n",
       "0                   8                   10                  4   \n",
       "1                   1                    1                  2   \n",
       "2                   8                    2                 10   \n",
       "3                   2                    0                  4   \n",
       "4                   5                    3                  6   \n",
       "...               ...                  ...                ...   \n",
       "2235                9                    3                  4   \n",
       "2236                8                    2                  5   \n",
       "2237                2                    3                 13   \n",
       "2238                6                    5                 10   \n",
       "2239                3                    1                  4   \n",
       "\n",
       "      Frequencypurchase  \n",
       "0                    22  \n",
       "1                     4  \n",
       "2                    20  \n",
       "3                     6  \n",
       "4                    14  \n",
       "...                 ...  \n",
       "2235                 16  \n",
       "2236                 15  \n",
       "2237                 18  \n",
       "2238                 21  \n",
       "2239                  8  \n",
       "\n",
       "[2240 rows x 4 columns]"
      ]
     },
     "execution_count": 162,
     "metadata": {},
     "output_type": "execute_result"
    }
   ],
   "source": [
    "# 4a Enter your solution here\n",
    "df[\"Frequencypurchase\"] = df[purchase].sum(axis = 1)\n",
    "df[['NumWebPurchases', 'NumCatalogPurchases', 'NumStorePurchases','Frequencypurchase']]"
   ]
  },
  {
   "cell_type": "code",
   "execution_count": 36,
   "id": "315980f2-d047-4213-ba28-231774b5fb37",
   "metadata": {
    "colab": {
     "base_uri": "https://localhost:8080/"
    },
    "executionInfo": {
     "elapsed": 518,
     "status": "ok",
     "timestamp": 1678670498342,
     "user": {
      "displayName": "FAIZA YUSUF",
      "userId": "15731917094248524976"
     },
     "user_tz": 0
    },
    "id": "315980f2-d047-4213-ba28-231774b5fb37",
    "outputId": "b44ffae6-545b-4fb8-96bc-d5ec4ebaa833",
    "scrolled": true
   },
   "outputs": [
    {
     "data": {
      "text/plain": [
       "{'(18.0, 32.0]': '3',\n",
       " '(-0.001, 6.0]': '0',\n",
       " '(12.0, 18.0]': '2',\n",
       " '(6.0, 12.0]': '1'}"
      ]
     },
     "execution_count": 36,
     "metadata": {},
     "output_type": "execute_result"
    }
   ],
   "source": [
    "# 4b Enter your solution here\n",
    "\n",
    "freq = df[\"Frequencypurchase\"]\n",
    "num_bins = 4 # No of groups\n",
    "label = np.arange(0,4) #no of label\n",
    "\n",
    "frequency_bin = pd.qcut(\n",
    "                       x=freq, q=num_bins, duplicates=\"drop\"\n",
    "                       ).astype(str)\n",
    "\n",
    "df[\"Frequency(weights)\"]= pd.qcut(\n",
    "                                 x=freq, q=num_bins, labels=label, duplicates=\"drop\"\n",
    "                                ).astype(str)                    \n",
    "\n",
    "\n",
    "dict_ = dict(itertools.zip_longest(frequency_bin, df[\"Frequency(weights)\"]))\n",
    "dict_"
   ]
  },
  {
   "cell_type": "code",
   "execution_count": 39,
   "id": "a9f70d7b-4a62-43bd-820a-769e16cbb821",
   "metadata": {
    "colab": {
     "base_uri": "https://localhost:8080/",
     "height": 206
    },
    "executionInfo": {
     "elapsed": 475,
     "status": "ok",
     "timestamp": 1678670517800,
     "user": {
      "displayName": "FAIZA YUSUF",
      "userId": "15731917094248524976"
     },
     "user_tz": 0
    },
    "id": "a9f70d7b-4a62-43bd-820a-769e16cbb821",
    "outputId": "995c8571-c1e5-41be-e708-a3eedde79917",
    "scrolled": true
   },
   "outputs": [
    {
     "data": {
      "text/html": [
       "<div>\n",
       "<style scoped>\n",
       "    .dataframe tbody tr th:only-of-type {\n",
       "        vertical-align: middle;\n",
       "    }\n",
       "\n",
       "    .dataframe tbody tr th {\n",
       "        vertical-align: top;\n",
       "    }\n",
       "\n",
       "    .dataframe thead th {\n",
       "        text-align: right;\n",
       "    }\n",
       "</style>\n",
       "<table border=\"1\" class=\"dataframe\">\n",
       "  <thead>\n",
       "    <tr style=\"text-align: right;\">\n",
       "      <th></th>\n",
       "      <th>Frequencypurchase</th>\n",
       "      <th>Frequency(weights)</th>\n",
       "    </tr>\n",
       "  </thead>\n",
       "  <tbody>\n",
       "    <tr>\n",
       "      <th>371</th>\n",
       "      <td>10</td>\n",
       "      <td>1</td>\n",
       "    </tr>\n",
       "    <tr>\n",
       "      <th>121</th>\n",
       "      <td>6</td>\n",
       "      <td>0</td>\n",
       "    </tr>\n",
       "    <tr>\n",
       "      <th>1639</th>\n",
       "      <td>4</td>\n",
       "      <td>0</td>\n",
       "    </tr>\n",
       "    <tr>\n",
       "      <th>305</th>\n",
       "      <td>22</td>\n",
       "      <td>3</td>\n",
       "    </tr>\n",
       "    <tr>\n",
       "      <th>307</th>\n",
       "      <td>17</td>\n",
       "      <td>2</td>\n",
       "    </tr>\n",
       "  </tbody>\n",
       "</table>\n",
       "</div>"
      ],
      "text/plain": [
       "      Frequencypurchase Frequency(weights)\n",
       "371                  10                  1\n",
       "121                   6                  0\n",
       "1639                  4                  0\n",
       "305                  22                  3\n",
       "307                  17                  2"
      ]
     },
     "execution_count": 39,
     "metadata": {},
     "output_type": "execute_result"
    }
   ],
   "source": [
    "df[['Frequencypurchase','Frequency(weights)']].sample(5)"
   ]
  },
  {
   "cell_type": "code",
   "execution_count": null,
   "id": "184ee6bc-f9da-4449-89af-87cf24375051",
   "metadata": {
    "id": "184ee6bc-f9da-4449-89af-87cf24375051"
   },
   "outputs": [],
   "source": []
  },
  {
   "cell_type": "markdown",
   "id": "c9d3492e-3df2-4730-9c79-a5722cfa9180",
   "metadata": {
    "id": "c9d3492e-3df2-4730-9c79-a5722cfa9180"
   },
   "source": [
    "## Qs 5.  \n",
    "* a) Calculate the `Customer Personality Analysis` using **RFM** (Recency Frequency Monetary) value using the formula:\n",
    "`Recency(weights)` + `Frequency(weights)` + `Avg_amount(weights)`. \n",
    "* b) Create a new variable called `Customer_value` by segmenting the customers using the RFM value. The RFM value should be converted into tercile (3 groups). Customer_value should have the following labels: `high_value`, `medium_value` and `low_value` which represents the binned RFM values.\n",
    "\n",
    "    * **COMPULSORY**: Validate your resulting by running:\n",
    "```python\n",
    "df[[\"Recency(weights)\", \"Frequency(weights)\", \"Avg_amount(weights)\", \"RFM\", \"Customer_value\"]].sample(n=10, random_state=2)\n",
    "```"
   ]
  },
  {
   "cell_type": "code",
   "execution_count": 78,
   "id": "pDloi4-IZYPN",
   "metadata": {
    "colab": {
     "base_uri": "https://localhost:8080/"
    },
    "executionInfo": {
     "elapsed": 381,
     "status": "ok",
     "timestamp": 1678670532339,
     "user": {
      "displayName": "FAIZA YUSUF",
      "userId": "15731917094248524976"
     },
     "user_tz": 0
    },
    "id": "pDloi4-IZYPN",
    "outputId": "af08253b-a544-4c0a-ed81-e2b6a14989f1"
   },
   "outputs": [
    {
     "data": {
      "text/plain": [
       "['Recency(weights)', 'Frequency(weights)', 'Avg_amount(weights)']"
      ]
     },
     "execution_count": 78,
     "metadata": {},
     "output_type": "execute_result"
    }
   ],
   "source": [
    "# getting the columns\n",
    "weight = ['Recency(weights)', 'Frequency(weights)', 'Avg_amount(weights)']\n",
    "weight"
   ]
  },
  {
   "cell_type": "code",
   "execution_count": 194,
   "id": "f22fe691-4a97-41d4-8079-3380ef32b6f0",
   "metadata": {
    "colab": {
     "base_uri": "https://localhost:8080/"
    },
    "executionInfo": {
     "elapsed": 389,
     "status": "ok",
     "timestamp": 1678672464558,
     "user": {
      "displayName": "FAIZA YUSUF",
      "userId": "15731917094248524976"
     },
     "user_tz": 0
    },
    "id": "f22fe691-4a97-41d4-8079-3380ef32b6f0",
    "outputId": "246fdf01-6ca8-42f1-f9bc-02e1e9718405",
    "scrolled": false
   },
   "outputs": [
    {
     "data": {
      "text/plain": [
       "0       239.0\n",
       "1       300.0\n",
       "2       336.0\n",
       "3       301.0\n",
       "4        25.0\n",
       "        ...  \n",
       "2235    228.0\n",
       "2236    225.0\n",
       "2237     28.0\n",
       "2238    436.0\n",
       "2239    213.0\n",
       "Name: RFM, Length: 2240, dtype: float64"
      ]
     },
     "execution_count": 194,
     "metadata": {},
     "output_type": "execute_result"
    }
   ],
   "source": [
    "# 5a Enter your solution here\n",
    "\n",
    "df[\"RFM\"] = df[weight].sum(axis = 1)\n",
    "df[\"RFM\"]"
   ]
  },
  {
   "cell_type": "markdown",
   "id": "6640de1a",
   "metadata": {},
   "source": [
    "### Good day Sir! Sir I don't know why my RFM is not calculating the right thing, I checked many times but could not see any mistake, i even use numpy to add, it gave different values and still not calculating well, could you please help me figure out. Thank you!!"
   ]
  },
  {
   "cell_type": "code",
   "execution_count": 195,
   "id": "f-Kf313QqOQZ",
   "metadata": {
    "colab": {
     "base_uri": "https://localhost:8080/"
    },
    "executionInfo": {
     "elapsed": 347,
     "status": "ok",
     "timestamp": 1678672614910,
     "user": {
      "displayName": "FAIZA YUSUF",
      "userId": "15731917094248524976"
     },
     "user_tz": 0
    },
    "id": "f-Kf313QqOQZ",
    "outputId": "c7709d84-43ed-4a19-af7d-1c7db2c189e8"
   },
   "outputs": [
    {
     "data": {
      "text/plain": [
       "{'(-0.001, 128.0]': 'low_value',\n",
       " '(128.0, 313.0]': 'medium_value',\n",
       " '(313.0, 439.0]': 'height_value'}"
      ]
     },
     "execution_count": 195,
     "metadata": {},
     "output_type": "execute_result"
    }
   ],
   "source": [
    "# 5b Enter your solution here\n",
    "\n",
    "df[\"RFM\"] = df[\"RFM\"].apply(pd.to_numeric) #converting the column to numeric varialble\n",
    "\n",
    "data = df[\"RFM\"]\n",
    "num_bins = 3 # No of groups\n",
    "label = [\"height_value\", \"medium_value\", \"low_value\"] #no of label\n",
    "\n",
    "df[\"Customer_value\"]= pd.qcut(\n",
    "                       x=data, q=num_bins, duplicates=\"drop\"\n",
    "                       ).astype(str)\n",
    "value_bins = df[\"Customer_value\"].value_counts().index\n",
    "value = [\"low_value\", \"medium_value\", \"height_value\"]\n",
    "\n",
    "value_dict = dict(itertools.zip_longest(value_bins,value))\n",
    "\n",
    "value_dict"
   ]
  },
  {
   "cell_type": "code",
   "execution_count": 196,
   "id": "c0443607",
   "metadata": {},
   "outputs": [],
   "source": [
    "# mapping the value bin\n",
    "df[\"Customer_value\"] = df[\"Customer_value\"].map(value_dict)"
   ]
  },
  {
   "cell_type": "code",
   "execution_count": 197,
   "id": "683f4981-5566-47cd-889c-712a1a09b5c0",
   "metadata": {
    "colab": {
     "base_uri": "https://localhost:8080/",
     "height": 424
    },
    "executionInfo": {
     "elapsed": 419,
     "status": "ok",
     "timestamp": 1678672620823,
     "user": {
      "displayName": "FAIZA YUSUF",
      "userId": "15731917094248524976"
     },
     "user_tz": 0
    },
    "id": "683f4981-5566-47cd-889c-712a1a09b5c0",
    "outputId": "2a4894e2-c4ba-4dfa-fc47-73c6ac24fddb",
    "scrolled": true
   },
   "outputs": [
    {
     "data": {
      "text/html": [
       "<div>\n",
       "<style scoped>\n",
       "    .dataframe tbody tr th:only-of-type {\n",
       "        vertical-align: middle;\n",
       "    }\n",
       "\n",
       "    .dataframe tbody tr th {\n",
       "        vertical-align: top;\n",
       "    }\n",
       "\n",
       "    .dataframe thead th {\n",
       "        text-align: right;\n",
       "    }\n",
       "</style>\n",
       "<table border=\"1\" class=\"dataframe\">\n",
       "  <thead>\n",
       "    <tr style=\"text-align: right;\">\n",
       "      <th></th>\n",
       "      <th>Recency(weights)</th>\n",
       "      <th>Frequency(weights)</th>\n",
       "      <th>Avg_amount(weights)</th>\n",
       "      <th>RFM</th>\n",
       "      <th>Customer_value</th>\n",
       "    </tr>\n",
       "  </thead>\n",
       "  <tbody>\n",
       "    <tr>\n",
       "      <th>0</th>\n",
       "      <td>2</td>\n",
       "      <td>3</td>\n",
       "      <td>9</td>\n",
       "      <td>239.0</td>\n",
       "      <td>medium_value</td>\n",
       "    </tr>\n",
       "    <tr>\n",
       "      <th>1</th>\n",
       "      <td>3</td>\n",
       "      <td>0</td>\n",
       "      <td>0</td>\n",
       "      <td>300.0</td>\n",
       "      <td>medium_value</td>\n",
       "    </tr>\n",
       "    <tr>\n",
       "      <th>2</th>\n",
       "      <td>3</td>\n",
       "      <td>3</td>\n",
       "      <td>6</td>\n",
       "      <td>336.0</td>\n",
       "      <td>height_value</td>\n",
       "    </tr>\n",
       "    <tr>\n",
       "      <th>3</th>\n",
       "      <td>3</td>\n",
       "      <td>0</td>\n",
       "      <td>1</td>\n",
       "      <td>301.0</td>\n",
       "      <td>medium_value</td>\n",
       "    </tr>\n",
       "    <tr>\n",
       "      <th>4</th>\n",
       "      <td>0</td>\n",
       "      <td>2</td>\n",
       "      <td>5</td>\n",
       "      <td>25.0</td>\n",
       "      <td>low_value</td>\n",
       "    </tr>\n",
       "    <tr>\n",
       "      <th>...</th>\n",
       "      <td>...</td>\n",
       "      <td>...</td>\n",
       "      <td>...</td>\n",
       "      <td>...</td>\n",
       "      <td>...</td>\n",
       "    </tr>\n",
       "    <tr>\n",
       "      <th>2235</th>\n",
       "      <td>2</td>\n",
       "      <td>2</td>\n",
       "      <td>8</td>\n",
       "      <td>228.0</td>\n",
       "      <td>medium_value</td>\n",
       "    </tr>\n",
       "    <tr>\n",
       "      <th>2236</th>\n",
       "      <td>2</td>\n",
       "      <td>2</td>\n",
       "      <td>5</td>\n",
       "      <td>225.0</td>\n",
       "      <td>medium_value</td>\n",
       "    </tr>\n",
       "    <tr>\n",
       "      <th>2237</th>\n",
       "      <td>0</td>\n",
       "      <td>2</td>\n",
       "      <td>8</td>\n",
       "      <td>28.0</td>\n",
       "      <td>low_value</td>\n",
       "    </tr>\n",
       "    <tr>\n",
       "      <th>2238</th>\n",
       "      <td>4</td>\n",
       "      <td>3</td>\n",
       "      <td>6</td>\n",
       "      <td>436.0</td>\n",
       "      <td>height_value</td>\n",
       "    </tr>\n",
       "    <tr>\n",
       "      <th>2239</th>\n",
       "      <td>2</td>\n",
       "      <td>1</td>\n",
       "      <td>3</td>\n",
       "      <td>213.0</td>\n",
       "      <td>medium_value</td>\n",
       "    </tr>\n",
       "  </tbody>\n",
       "</table>\n",
       "<p>2240 rows × 5 columns</p>\n",
       "</div>"
      ],
      "text/plain": [
       "     Recency(weights) Frequency(weights) Avg_amount(weights)    RFM  \\\n",
       "0                   2                  3                   9  239.0   \n",
       "1                   3                  0                   0  300.0   \n",
       "2                   3                  3                   6  336.0   \n",
       "3                   3                  0                   1  301.0   \n",
       "4                   0                  2                   5   25.0   \n",
       "...               ...                ...                 ...    ...   \n",
       "2235                2                  2                   8  228.0   \n",
       "2236                2                  2                   5  225.0   \n",
       "2237                0                  2                   8   28.0   \n",
       "2238                4                  3                   6  436.0   \n",
       "2239                2                  1                   3  213.0   \n",
       "\n",
       "     Customer_value  \n",
       "0      medium_value  \n",
       "1      medium_value  \n",
       "2      height_value  \n",
       "3      medium_value  \n",
       "4         low_value  \n",
       "...             ...  \n",
       "2235   medium_value  \n",
       "2236   medium_value  \n",
       "2237      low_value  \n",
       "2238   height_value  \n",
       "2239   medium_value  \n",
       "\n",
       "[2240 rows x 5 columns]"
      ]
     },
     "execution_count": 197,
     "metadata": {},
     "output_type": "execute_result"
    }
   ],
   "source": [
    "df[[\"Recency(weights)\", \"Frequency(weights)\", \"Avg_amount(weights)\", \"RFM\", \"Customer_value\"]]"
   ]
  },
  {
   "cell_type": "code",
   "execution_count": null,
   "id": "b6b5f3e9",
   "metadata": {},
   "outputs": [],
   "source": []
  },
  {
   "cell_type": "markdown",
   "id": "956676c2",
   "metadata": {},
   "source": []
  },
  {
   "cell_type": "code",
   "execution_count": null,
   "id": "ecc339a8",
   "metadata": {},
   "outputs": [],
   "source": []
  },
  {
   "cell_type": "code",
   "execution_count": null,
   "id": "757b2f48",
   "metadata": {},
   "outputs": [],
   "source": []
  }
 ],
 "metadata": {
  "colab": {
   "provenance": [],
   "toc_visible": true
  },
  "kernelspec": {
   "display_name": "Python 3 (ipykernel)",
   "language": "python",
   "name": "python3"
  },
  "language_info": {
   "codemirror_mode": {
    "name": "ipython",
    "version": 3
   },
   "file_extension": ".py",
   "mimetype": "text/x-python",
   "name": "python",
   "nbconvert_exporter": "python",
   "pygments_lexer": "ipython3",
   "version": "3.9.12"
  }
 },
 "nbformat": 4,
 "nbformat_minor": 5
}
